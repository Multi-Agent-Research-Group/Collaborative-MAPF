{
 "cells": [
  {
   "cell_type": "code",
   "execution_count": 1,
   "id": "bc2b11c4",
   "metadata": {},
   "outputs": [],
   "source": [
    "import numpy as np\n",
    "astar = np.loadtxt('astar_sample.txt')\n",
    "sipp = np.loadtxt('sipp_sample.txt')\n",
    "\n"
   ]
  },
  {
   "cell_type": "code",
   "execution_count": 2,
   "id": "949a853d",
   "metadata": {},
   "outputs": [
    {
     "data": {
      "text/plain": [
       "array([[1152.    ,  154.122 ,    4.    ],\n",
       "       [ 865.    ,  282.354 ,    6.    ],\n",
       "       [ 853.    ,   54.1008,    6.    ],\n",
       "       [ 875.    ,   71.8449,    6.    ],\n",
       "       [ 828.    ,   46.0831,    6.    ],\n",
       "       [ 930.    ,   51.5192,    6.    ],\n",
       "       [ 891.    ,   14.8255,   14.    ],\n",
       "       [ 713.    ,   45.8961,    9.    ],\n",
       "       [ 960.    ,   43.7899,    9.    ],\n",
       "       [ 806.    ,   51.6746,    5.    ]])"
      ]
     },
     "execution_count": 2,
     "metadata": {},
     "output_type": "execute_result"
    }
   ],
   "source": [
    "astar"
   ]
  },
  {
   "cell_type": "code",
   "execution_count": null,
   "id": "f9d021e9",
   "metadata": {},
   "outputs": [],
   "source": []
  }
 ],
 "metadata": {
  "kernelspec": {
   "display_name": "Python 3 (ipykernel)",
   "language": "python",
   "name": "python3"
  },
  "language_info": {
   "codemirror_mode": {
    "name": "ipython",
    "version": 3
   },
   "file_extension": ".py",
   "mimetype": "text/x-python",
   "name": "python",
   "nbconvert_exporter": "python",
   "pygments_lexer": "ipython3",
   "version": "3.9.7"
  }
 },
 "nbformat": 4,
 "nbformat_minor": 5
}
