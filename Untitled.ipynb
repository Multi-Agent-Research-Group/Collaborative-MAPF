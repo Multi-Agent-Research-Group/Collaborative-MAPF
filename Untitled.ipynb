{
 "cells": [
  {
   "cell_type": "code",
   "execution_count": 3,
   "id": "27ef6299",
   "metadata": {},
   "outputs": [],
   "source": [
    "import numpy as np\n",
    "astar = np.loadtxt('astar_sample.txt')\n",
    "sipp = np.loadtxt('sipp_sample.txt')\n",
    "\n"
   ]
  },
  {
   "cell_type": "code",
   "execution_count": 8,
   "id": "e09137cd",
   "metadata": {},
   "outputs": [
    {
     "name": "stdout",
     "output_type": "stream",
     "text": [
      "========== 30 tasks, 10 precedence constraints, 5 agents ===============\n",
      "A-Star (Vanilla) mean computation time 81.62101s\n",
      "A-Star (SIPP) mean computation time 81.62101s\n"
     ]
    }
   ],
   "source": [
    "\n",
    "print('========== 30 tasks, 10 precedence constraints, 5 agents ===============')\n",
    "print(f'A-Star (Vanilla) mean computation time {astar[:, 1].mean()}s')\n",
    "print(f'A-Star (SIPP) mean computation time {astar[:, 1].mean()}s')"
   ]
  },
  {
   "cell_type": "code",
   "execution_count": null,
   "id": "cec59f4d",
   "metadata": {},
   "outputs": [],
   "source": []
  }
 ],
 "metadata": {
  "kernelspec": {
   "display_name": "Python 3 (ipykernel)",
   "language": "python",
   "name": "python3"
  },
  "language_info": {
   "codemirror_mode": {
    "name": "ipython",
    "version": 3
   },
   "file_extension": ".py",
   "mimetype": "text/x-python",
   "name": "python",
   "nbconvert_exporter": "python",
   "pygments_lexer": "ipython3",
   "version": "3.9.7"
  }
 },
 "nbformat": 4,
 "nbformat_minor": 5
}
